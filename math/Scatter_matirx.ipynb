{
  "nbformat": 4,
  "nbformat_minor": 0,
  "metadata": {
    "colab": {
      "name": "Scatter matirx.ipynb",
      "provenance": [],
      "collapsed_sections": []
    },
    "kernelspec": {
      "name": "python3",
      "display_name": "Python 3"
    }
  },
  "cells": [
    {
      "cell_type": "code",
      "metadata": {
        "id": "IZ1nP1BclV8X",
        "colab_type": "code",
        "colab": {}
      },
      "source": [
        "import numpy as np"
      ],
      "execution_count": 2,
      "outputs": []
    },
    {
      "cell_type": "markdown",
      "metadata": {
        "id": "ZrGvn2E-loR_",
        "colab_type": "text"
      },
      "source": [
        "首先先来制造一些数据，可以看出来第一行和第二行是正相关，第一行第三行是负相关"
      ]
    },
    {
      "cell_type": "code",
      "metadata": {
        "id": "2v6k_qPVlFj1",
        "colab_type": "code",
        "colab": {}
      },
      "source": [
        "samples = np.array([[1,2,3,4,5],\n",
        "                    [9,21,31,39,52],\n",
        "                    [9,8,7,5,4]])"
      ],
      "execution_count": 3,
      "outputs": []
    },
    {
      "cell_type": "code",
      "metadata": {
        "id": "kxgJX42Yls-9",
        "colab_type": "code",
        "colab": {
          "base_uri": "https://localhost:8080/",
          "height": 34
        },
        "outputId": "6680204c-4b9b-4882-fca8-919dcbc5e2d2"
      },
      "source": [
        "mean = [np.mean(samples[0,:]),np.mean(samples[1,:]),np.mean(samples[2,:])]\n",
        "mean = np.array(mean)\n",
        "print(f\"mean:{mean}\")"
      ],
      "execution_count": 8,
      "outputs": [
        {
          "output_type": "stream",
          "text": [
            "mean:[ 3.  30.4  6.6]\n"
          ],
          "name": "stdout"
        }
      ]
    },
    {
      "cell_type": "markdown",
      "metadata": {
        "id": "dCMKUKEvrZky",
        "colab_type": "text"
      },
      "source": [
        "求散布矩阵的公式为：\n",
        "$$S = \\sum_{i=0}^{n}(X_i - m)(X_i-m)^T$$"
      ]
    },
    {
      "cell_type": "code",
      "metadata": {
        "id": "9RVkWeismNoL",
        "colab_type": "code",
        "colab": {
          "base_uri": "https://localhost:8080/",
          "height": 68
        },
        "outputId": "d5c0d09a-5f02-4599-918a-c7c13e90e382"
      },
      "source": [
        "scatter_matrix = np.zeros((3,3))\n",
        "for i in range(samples.shape[1]):\n",
        "    scatter_matrix += (samples[:,i].reshape(3,1) - mean).dot((samples[:,i].reshape(3,1) - mean).T)\n",
        "print(scatter_matrix)"
      ],
      "execution_count": 14,
      "outputs": [
        {
          "output_type": "stream",
          "text": [
            "[[3848.6 -116.4 3221.6]\n",
            " [-116.4 9847.6   90.6]\n",
            " [3221.6   90.6 2948.6]]\n"
          ],
          "name": "stdout"
        }
      ]
    },
    {
      "cell_type": "markdown",
      "metadata": {
        "id": "vb4LQgI2nirG",
        "colab_type": "text"
      },
      "source": [
        "\n",
        "具体解释一下每个循环发生了什么，首先取出第一列$X_0=[1,9,9]$，然后让它们分别减去三行的平均数$m=[3,30.4,6.6]$\n",
        "$$X_0-m=\n",
        " \\left[\n",
        "  \\begin{matrix}\n",
        "   1-3 & 3-30.4 & 3-6.6 \\\\\n",
        "   9-3 & 9-30.4 & 9-6.6 \\\\\n",
        "   9-3 & 9-30.4 & 9-6.6 \n",
        "  \\end{matrix} \n",
        "\\right] \n",
        "$$\n",
        "求得矩阵：\n",
        "$$X_0-m=\n",
        " \\left[\n",
        "  \\begin{matrix}\n",
        "   -2 & -29.4 & -5.6\\\\\n",
        "   6 & -21.4& 2.4 \\\\\n",
        "   6 & -21.4& 2.4\n",
        "  \\end{matrix} \n",
        "\\right] \n",
        "$$\n",
        "转置：\n",
        "$$(X_0-m)^T=\n",
        " \\left[\n",
        "  \\begin{matrix}\n",
        "   -2 & 6 & 6\\\\\n",
        "   -29.4 & -21.4& -21.4\\\\\n",
        "   -5.6 & 2.4& 2.4\n",
        "  \\end{matrix} \n",
        "\\right] \n",
        "$$\n",
        "相乘：\n",
        "$$(X_0-m)(X_0-m)^T=\n",
        " \\left[\n",
        "  \\begin{matrix}\n",
        "   899.72 & 603.72 & 603.72\\\\\n",
        "   603.72 & 499.72 & 499.72\\\\\n",
        "   603.72 & 499.72 & 499.72\n",
        "  \\end{matrix} \n",
        "\\right] \n",
        "$$\n",
        "接下来的每一列都是如此，并将每一列求得的矩阵相加，就可以得到散步矩阵了"
      ]
    },
    {
      "cell_type": "markdown",
      "metadata": {
        "id": "Ixnmes8-rz6J",
        "colab_type": "text"
      },
      "source": [
        "顺带一提，散布矩阵和协方差矩阵就差$1/(n-1)$\n",
        "$$S = \\sum_{i=0}^{n}(X_i - m)(X_i-m)^T$$\n",
        "$$C = \\frac{1}{n-1} \\sum_{i=1}^{n}(X_i-m)(X_i-m)^T$$\n",
        "所以求得散布矩阵后协方差矩阵也很容易求出来了"
      ]
    }
  ]
}