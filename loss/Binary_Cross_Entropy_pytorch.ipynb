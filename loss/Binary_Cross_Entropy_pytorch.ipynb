{
  "nbformat": 4,
  "nbformat_minor": 0,
  "metadata": {
    "colab": {
      "name": "Binary Cross Entropy pytorch.ipynb",
      "provenance": []
    },
    "kernelspec": {
      "name": "python3",
      "display_name": "Python 3"
    }
  },
  "cells": [
    {
      "cell_type": "markdown",
      "metadata": {
        "id": "A64G--3kpfLP",
        "colab_type": "text"
      },
      "source": [
        "先做下准备"
      ]
    },
    {
      "cell_type": "code",
      "metadata": {
        "id": "YJ2bSN00WXob",
        "colab_type": "code",
        "colab": {}
      },
      "source": [
        "import torch\n",
        "\n",
        "import math"
      ],
      "execution_count": 2,
      "outputs": []
    },
    {
      "cell_type": "markdown",
      "metadata": {
        "id": "PnAI2sfmrZJC",
        "colab_type": "text"
      },
      "source": [
        "首先先来看看BCE loss 的公式\n",
        "\n",
        "$l_n = -w_n[y_n \\times log(x_n) + (1-y_n) \\times log(1-x_n)]$\n",
        "\n",
        "公式是什么意思以及公式是怎么来的在我别的笔记本中有介绍\n",
        "[戳这里](https://github.com/pluszeroplus/Deep-Learning/blob/master/loss/Binary%20Cross%20Entropy.pdf)\n",
        "，总之先来举个例子"
      ]
    },
    {
      "cell_type": "code",
      "metadata": {
        "id": "dE3vuZBhsQch",
        "colab_type": "code",
        "colab": {}
      },
      "source": [
        "target = [0,1,0,1,1,1]\n",
        "output = [0.1,0.1,0.9,0.9,0.2,0.8]"
      ],
      "execution_count": 3,
      "outputs": []
    },
    {
      "cell_type": "markdown",
      "metadata": {
        "id": "KEQYN_0Ysz_j",
        "colab_type": "text"
      },
      "source": [
        "那么第一个值的loss为"
      ]
    },
    {
      "cell_type": "code",
      "metadata": {
        "id": "zqBaS3CVszj5",
        "colab_type": "code",
        "colab": {
          "base_uri": "https://localhost:8080/",
          "height": 34
        },
        "outputId": "21bf616c-2708-4aa1-be7f-5f4907647af4"
      },
      "source": [
        "l0 = -(target[0] * math.log(output[0]) + (1-target[0]) * math.log(1-output[0]))\n",
        "l0"
      ],
      "execution_count": 6,
      "outputs": [
        {
          "output_type": "execute_result",
          "data": {
            "text/plain": [
              "0.10536051565782628"
            ]
          },
          "metadata": {
            "tags": []
          },
          "execution_count": 6
        }
      ]
    },
    {
      "cell_type": "markdown",
      "metadata": {
        "id": "W7BlCNaeuLLZ",
        "colab_type": "text"
      },
      "source": [
        "第二个值的loss为"
      ]
    },
    {
      "cell_type": "code",
      "metadata": {
        "id": "fAbLn9TmuOXG",
        "colab_type": "code",
        "colab": {
          "base_uri": "https://localhost:8080/",
          "height": 34
        },
        "outputId": "94b457b8-ceef-430d-e1c2-a971d3a99792"
      },
      "source": [
        "l1 = -(target[1] * math.log(output[1]) + (1-target[1]) * math.log(1-output[1]))\n",
        "l1"
      ],
      "execution_count": 7,
      "outputs": [
        {
          "output_type": "execute_result",
          "data": {
            "text/plain": [
              "2.3025850929940455"
            ]
          },
          "metadata": {
            "tags": []
          },
          "execution_count": 7
        }
      ]
    },
    {
      "cell_type": "markdown",
      "metadata": {
        "id": "8pr7fj0GuTO-",
        "colab_type": "text"
      },
      "source": [
        "机智的你应该发现我们这两行代码是一样的！！所以这个时候写个循环遍历一下就可以搞定了！\n",
        "\n",
        "**但是！！！**\n",
        "这样不够优雅，我们可以更简单一些"
      ]
    },
    {
      "cell_type": "markdown",
      "metadata": {
        "id": "vrHN49myui2V",
        "colab_type": "text"
      },
      "source": [
        "首先我们先把两个变量从list类型转为torch.tensor,这样可以做一些矩阵的运算（转成numpy也行）"
      ]
    },
    {
      "cell_type": "code",
      "metadata": {
        "id": "NZdqfMkguvjq",
        "colab_type": "code",
        "colab": {}
      },
      "source": [
        "# dtype 为 float32是torch.nn.functional.binary_cross_entropy的要求\n",
        "target = torch.tensor(target,dtype = torch.float32)\n",
        "output = torch.tensor(output,dtype = torch.float32)"
      ],
      "execution_count": 8,
      "outputs": []
    },
    {
      "cell_type": "markdown",
      "metadata": {
        "id": "9fE-kaxMvsBg",
        "colab_type": "text"
      },
      "source": [
        "然后把同样的式子放进去\n",
        "\n",
        "*math.log 换为torch.log是因为现在运算对象是torch.tensor了*"
      ]
    },
    {
      "cell_type": "code",
      "metadata": {
        "id": "Z3qHz_rIvqk5",
        "colab_type": "code",
        "colab": {
          "base_uri": "https://localhost:8080/",
          "height": 34
        },
        "outputId": "cf5a7e68-e70d-417b-84ff-19ff648b23a4"
      },
      "source": [
        "loss = -(target * torch.log(output) + (1-target) * torch.log(1-output))\n",
        "loss"
      ],
      "execution_count": 10,
      "outputs": [
        {
          "output_type": "execute_result",
          "data": {
            "text/plain": [
              "tensor([0.1054, 2.3026, 2.3026, 0.1054, 1.6094, 0.2231])"
            ]
          },
          "metadata": {
            "tags": []
          },
          "execution_count": 10
        }
      ]
    },
    {
      "cell_type": "markdown",
      "metadata": {
        "id": "yj_PXA89wKGL",
        "colab_type": "text"
      },
      "source": [
        "这不就出来了！！\n",
        "稍微解释一下，式子的左边先算了positive 的loss"
      ]
    },
    {
      "cell_type": "code",
      "metadata": {
        "id": "OYr65CwJwJ0Z",
        "colab_type": "code",
        "colab": {
          "base_uri": "https://localhost:8080/",
          "height": 34
        },
        "outputId": "5dcca895-10f8-43d9-c79b-81b671927462"
      },
      "source": [
        "-target * torch.log(output)"
      ],
      "execution_count": 11,
      "outputs": [
        {
          "output_type": "execute_result",
          "data": {
            "text/plain": [
              "tensor([0.0000, 2.3026, 0.0000, 0.1054, 1.6094, 0.2231])"
            ]
          },
          "metadata": {
            "tags": []
          },
          "execution_count": 11
        }
      ]
    },
    {
      "cell_type": "markdown",
      "metadata": {
        "id": "1R1ijuxiwT0G",
        "colab_type": "text"
      },
      "source": [
        "右边算了negative 的loss"
      ]
    },
    {
      "cell_type": "code",
      "metadata": {
        "id": "5rzMXzxpwYCI",
        "colab_type": "code",
        "colab": {
          "base_uri": "https://localhost:8080/",
          "height": 34
        },
        "outputId": "0be33d48-2d54-4b2d-afdb-e36d4031b4c2"
      },
      "source": [
        "-(1-target) * torch.log(1-output)\n"
      ],
      "execution_count": 13,
      "outputs": [
        {
          "output_type": "execute_result",
          "data": {
            "text/plain": [
              "tensor([0.1054, 0.0000, 2.3026, 0.0000, 0.0000, 0.0000])"
            ]
          },
          "metadata": {
            "tags": []
          },
          "execution_count": 13
        }
      ]
    },
    {
      "cell_type": "markdown",
      "metadata": {
        "id": "EgIOuytJwdVu",
        "colab_type": "text"
      },
      "source": [
        "两个相加就是最后的结果了，我们和pytorch官方的函数比对一下"
      ]
    },
    {
      "cell_type": "code",
      "metadata": {
        "id": "WMNvnUVlwlmh",
        "colab_type": "code",
        "colab": {
          "base_uri": "https://localhost:8080/",
          "height": 34
        },
        "outputId": "ccc91d05-4a4f-410f-c65a-cb754bd73b95"
      },
      "source": [
        "torch.nn.functional.binary_cross_entropy(output,target,reduction = \"none\")"
      ],
      "execution_count": 15,
      "outputs": [
        {
          "output_type": "execute_result",
          "data": {
            "text/plain": [
              "tensor([0.1054, 2.3026, 2.3026, 0.1054, 1.6094, 0.2231])"
            ]
          },
          "metadata": {
            "tags": []
          },
          "execution_count": 15
        }
      ]
    },
    {
      "cell_type": "markdown",
      "metadata": {
        "id": "gt9nv5vixFNH",
        "colab_type": "text"
      },
      "source": [
        "当reduction = \"sum\" 的时候其实就是求和"
      ]
    },
    {
      "cell_type": "code",
      "metadata": {
        "id": "BnxGAijFw0XX",
        "colab_type": "code",
        "colab": {
          "base_uri": "https://localhost:8080/",
          "height": 51
        },
        "outputId": "ff01cb09-02f0-4058-c724-0759e25548cc"
      },
      "source": [
        "print(torch.sum(loss))\n",
        "print(torch.nn.functional.binary_cross_entropy(output,target,reduction = \"sum\"))"
      ],
      "execution_count": 16,
      "outputs": [
        {
          "output_type": "stream",
          "text": [
            "tensor(6.6485)\n",
            "tensor(6.6485)\n"
          ],
          "name": "stdout"
        }
      ]
    },
    {
      "cell_type": "markdown",
      "metadata": {
        "id": "vO4j9z-kxCC4",
        "colab_type": "text"
      },
      "source": [
        "当reduction = \"mean\" 的时候就是求平均数\n",
        "reduction = \"mean\"为默认值，也就是大家一般没事的时候会用的设定"
      ]
    },
    {
      "cell_type": "code",
      "metadata": {
        "id": "r1mAQtfwxTzv",
        "colab_type": "code",
        "colab": {
          "base_uri": "https://localhost:8080/",
          "height": 68
        },
        "outputId": "4a0ca7eb-77b0-418d-f611-47db2488d4c5"
      },
      "source": [
        "print(torch.mean(loss))\n",
        "print(torch.nn.functional.binary_cross_entropy(output,target,reduction = \"mean\"))\n",
        "print(torch.nn.functional.binary_cross_entropy(output,target))"
      ],
      "execution_count": 18,
      "outputs": [
        {
          "output_type": "stream",
          "text": [
            "tensor(1.1081)\n",
            "tensor(1.1081)\n",
            "tensor(1.1081)\n"
          ],
          "name": "stdout"
        }
      ]
    }
  ]
}