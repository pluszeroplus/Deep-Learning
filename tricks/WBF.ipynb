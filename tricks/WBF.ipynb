{
  "nbformat": 4,
  "nbformat_minor": 0,
  "metadata": {
    "colab": {
      "name": "WBF.ipynb",
      "provenance": [],
      "collapsed_sections": [],
      "toc_visible": true
    },
    "kernelspec": {
      "name": "python3",
      "display_name": "Python 3"
    }
  },
  "cells": [
    {
      "cell_type": "markdown",
      "metadata": {
        "id": "WXMXQOpqpxT0",
        "colab_type": "text"
      },
      "source": [
        "# Weighted Boxes Fusion (WBF) 是什么\n",
        "当我们进行物体检测的时候，模型输出的目标检测框很多时候可能不止一个，这个时候我们需要选择其中的一个框作为最终输出，其他常见的算法还有NMS，soft-NMS。而WBF在许多情景下能比NMS 等算法有更好的表现。\n",
        "![object detection](images/cat and dog.png)\n"
      ]
    },
    {
      "cell_type": "code",
      "metadata": {
        "id": "pQOpZ2c-puWZ",
        "colab_type": "code",
        "colab": {}
      },
      "source": [
        "import numpy as np"
      ],
      "execution_count": null,
      "outputs": []
    },
    {
      "cell_type": "code",
      "metadata": {
        "id": "cWNZdaP-zaLj",
        "colab_type": "code",
        "colab": {}
      },
      "source": [
        ""
      ],
      "execution_count": null,
      "outputs": []
    },
    {
      "cell_type": "markdown",
      "metadata": {
        "id": "q_oLMCClqUSQ",
        "colab_type": "text"
      },
      "source": [
        "先来制作一些假数据"
      ]
    },
    {
      "cell_type": "code",
      "metadata": {
        "id": "Vab7I1SLqSgl",
        "colab_type": "code",
        "colab": {}
      },
      "source": [
        "# x1,x2,y1,y2\n",
        "boxes = [[2,2,4,4],[3,3,4,4],[5,5,6,6],[1,2,3,4],[2,3,5,7],[4,5,6,8]]\n",
        "labels = [1,1,1,2,2,2]\n",
        "scores = [0.1,0.8,0.9,0.2,0.3,0.6]"
      ],
      "execution_count": null,
      "outputs": []
    },
    {
      "cell_type": "markdown",
      "metadata": {
        "id": "pZ6L6_1ArUZn",
        "colab_type": "text"
      },
      "source": [
        "### 数据预处理\n",
        "先将boxes 和 scores 按照 labels 的类型分好"
      ]
    },
    {
      "cell_type": "code",
      "metadata": {
        "id": "v7-9gOv1rphB",
        "colab_type": "code",
        "colab": {
          "base_uri": "https://localhost:8080/",
          "height": 68
        },
        "outputId": "9658cde1-c9ff-4efb-84d1-250c2b40383a"
      },
      "source": [
        "new_boxes = {}\n",
        "new_scores ={}\n",
        "new_labels =[]\n",
        "for i in range(len(labels)):\n",
        "  if labels[i] in new_boxes:\n",
        "    new_boxes[labels[i]].append(boxes[i])\n",
        "    new_scores[labels[i]].append(scores[i])\n",
        "  else:\n",
        "    new_boxes[labels[i]] = [boxes[i]]\n",
        "    new_scores[labels[i]]=[scores[i]]\n",
        "    new_labels.append(labels[i])\n",
        "print(new_boxes)\n",
        "print(new_scores)\n",
        "print(new_labels)"
      ],
      "execution_count": null,
      "outputs": [
        {
          "output_type": "stream",
          "text": [
            "{1: [[2, 2, 4, 4], [3, 3, 4, 4], [5, 5, 6, 6]], 2: [[1, 2, 3, 4], [2, 3, 5, 7], [4, 5, 6, 8]]}\n",
            "{1: [0.1, 0.8, 0.9], 2: [0.2, 0.3, 0.6]}\n",
            "[1, 2]\n"
          ],
          "name": "stdout"
        }
      ]
    },
    {
      "cell_type": "markdown",
      "metadata": {
        "id": "sL71pM5Kuhnz",
        "colab_type": "text"
      },
      "source": [
        "接下来我们要按照scores(confidence)的高低排序"
      ]
    },
    {
      "cell_type": "code",
      "metadata": {
        "id": "BJY1wRsxutN-",
        "colab_type": "code",
        "colab": {
          "base_uri": "https://localhost:8080/",
          "height": 51
        },
        "outputId": "a1867456-8c78-41bf-bebf-f8d9739a11ef"
      },
      "source": [
        "for i in new_labels:\n",
        "  boxes = new_boxes[i]\n",
        "  # 为了使用argmin,将scores转为numpy对象\n",
        "  scores = np.array(new_scores[i])\n",
        "  sorted_boxes =[]\n",
        "  sorted_scores = []\n",
        "\n",
        "  while len(scores) > 0:\n",
        "    pos = np.argmax(scores)\n",
        "    sorted_boxes.append(boxes[pos])\n",
        "    sorted_scores.append(scores[pos])\n",
        "    scores = np.delete(scores,pos)\n",
        "  new_boxes[i] = sorted_boxes\n",
        "  new_scores[i] = sorted_scores\n",
        "print(new_boxes)\n",
        "print(new_scores)"
      ],
      "execution_count": null,
      "outputs": [
        {
          "output_type": "stream",
          "text": [
            "{1: [[5, 5, 6, 6], [3, 3, 4, 4], [2, 2, 4, 4]], 2: [[4, 5, 6, 8], [2, 3, 5, 7], [1, 2, 3, 4]]}\n",
            "{1: [0.9, 0.8, 0.1], 2: [0.6, 0.3, 0.2]}\n"
          ],
          "name": "stdout"
        }
      ]
    },
    {
      "cell_type": "markdown",
      "metadata": {
        "id": "M7kMK1X9t80s",
        "colab_type": "text"
      },
      "source": [
        "### WBF 主要算法\n",
        "#### 生成L_box 和 Fusion \n",
        "\n",
        "\n",
        "1.   准备两个列表 Fusion, L_boxes\n",
        "2.   遍历某个类中的所有box\n",
        "3.   如果这个box和Fusion中所有的盒子IOU都没有超过 0.25:（论文中用的是0.55,这里为了方便用0.25)\n",
        "  * 将这个box放入 L_boxes, 和Fusion最后面\n",
        "4.   否则：\n",
        "  * 将这个box放入L_boxes中与重复的Fusion同一个位置\n",
        "\n",
        "\n",
        "\n",
        "\n"
      ]
    },
    {
      "cell_type": "markdown",
      "metadata": {
        "id": "OK6Ygpo5pJAQ",
        "colab_type": "text"
      },
      "source": [
        "首先先要写一个函数计算两个box的IoU"
      ]
    },
    {
      "cell_type": "code",
      "metadata": {
        "id": "P2X9zIQ5y2qt",
        "colab_type": "code",
        "colab": {}
      },
      "source": [
        "def findoverlap(box,Fusion):\n",
        "  area = []\n",
        "  for _,f_box in Fusion.items():\n",
        "    lower_bound = [max(box[0],f_box[0]),max(box[1],f_box[1])]\n",
        "    upper_bound = [min(box[2],f_box[2]),min(box[3],f_box[3])]\n",
        "    w = upper_bound[0] - lower_bound[0]\n",
        "    h = upper_bound[1] - lower_bound[1]\n",
        "    if w <  0 or h < 0:\n",
        "      area.append(0)\n",
        "    else:\n",
        "      box_area = (box[2]-box[0])*(box[3]-box[1])\n",
        "      f_box_area = (f_box[2]-f_box[0])*(f_box[3]-f_box[1])\n",
        "      u_area = box_area + f_box_area - w*h\n",
        "      area.append(w*h/u_area)\n",
        "  return area"
      ],
      "execution_count": null,
      "outputs": []
    },
    {
      "cell_type": "code",
      "metadata": {
        "id": "9RZczSTsy-P1",
        "colab_type": "code",
        "colab": {
          "base_uri": "https://localhost:8080/",
          "height": 34
        },
        "outputId": "fbf5fcc3-9d1a-4cf5-c111-0b9235bafc04"
      },
      "source": [
        "# 测试一下\n",
        "findoverlap(box  = [1,1,3,3],Fusion = {0:[2,2,3,3],1:[4,4,5,5]})"
      ],
      "execution_count": null,
      "outputs": [
        {
          "output_type": "execute_result",
          "data": {
            "text/plain": [
              "[0.25, 0]"
            ]
          },
          "metadata": {
            "tags": []
          },
          "execution_count": 14
        }
      ]
    },
    {
      "cell_type": "code",
      "metadata": {
        "id": "kd-U7yBtuB9X",
        "colab_type": "code",
        "colab": {
          "base_uri": "https://localhost:8080/",
          "height": 68
        },
        "outputId": "6b8ee0cc-919c-497e-9545-b972eec8f7b7"
      },
      "source": [
        "Fusion = {}\n",
        "L_boxes ={}\n",
        "L_scores ={}\n",
        "num_pos = 0\n",
        "# 先拿一个类做示范，后面可以改成一个循环\n",
        "label = new_labels[0] \n",
        "for i, box in enumerate(new_boxes[label]):\n",
        "  IoU = findoverlap(box,Fusion)\n",
        "  if len(IoU) == 0 or sum(IoU) == 0 or max(IoU) < 0.25:\n",
        "    # 没有重叠的\n",
        "    Fusion[num_pos]=box\n",
        "    L_boxes[num_pos] = [box]\n",
        "    L_scores[num_pos] = [new_scores[label][i]]\n",
        "    num_pos += 1\n",
        "  else:\n",
        "    pos = np.argmax(np.array(IoU))\n",
        "    L_boxes[pos].append(box)\n",
        "    L_scores[pos].append(new_scores[label][i])\n",
        "print(Fusion)\n",
        "print(L_boxes)\n",
        "print(L_scores)"
      ],
      "execution_count": null,
      "outputs": [
        {
          "output_type": "stream",
          "text": [
            "{0: [5, 5, 6, 6], 1: [3, 3, 4, 4]}\n",
            "{0: [[5, 5, 6, 6]], 1: [[3, 3, 4, 4], [2, 2, 4, 4]]}\n",
            "{0: [0.9], 1: [0.8, 0.1]}\n"
          ],
          "name": "stdout"
        }
      ]
    },
    {
      "cell_type": "markdown",
      "metadata": {
        "id": "VFcFRyfasrMC",
        "colab_type": "text"
      },
      "source": [
        "#### 计算L_box中加权平均值\n",
        "现在我们知道在L_boxes中每个位置，都会存在一个以上的box,但我们最后决定只留一个box。这时，我们会计算每个位置上boxes的加权平均值，也就是把它们和为一体。"
      ]
    },
    {
      "cell_type": "code",
      "metadata": {
        "id": "nqOpIgeOteqH",
        "colab_type": "code",
        "colab": {
          "base_uri": "https://localhost:8080/",
          "height": 34
        },
        "outputId": "38e11583-4934-4e21-94b7-ab898aac3354"
      },
      "source": [
        "result_boxes = []\n",
        "for i in range(num_pos):\n",
        "  result_box = [0,0,0,0]\n",
        "  for j, box in enumerate(L_boxes[i]):\n",
        "    result_box[0] += box[0] * L_scores[i][j] /sum(L_scores[i])\n",
        "    result_box[1] += box[1] * L_scores[i][j] /sum(L_scores[i])\n",
        "    result_box[2] += box[2] * L_scores[i][j] /sum(L_scores[i])\n",
        "    result_box[3] += box[3] * L_scores[i][j] /sum(L_scores[i])\n",
        "  result_boxes.append(result_box)\n",
        "print(result_boxes)"
      ],
      "execution_count": null,
      "outputs": [
        {
          "output_type": "stream",
          "text": [
            "[[5.0, 5.0, 6.0, 6.0], [2.8888888888888893, 2.8888888888888893, 4.0, 4.0]]\n"
          ],
          "name": "stdout"
        }
      ]
    },
    {
      "cell_type": "markdown",
      "metadata": {
        "id": "0o0TeaJcwzM3",
        "colab_type": "text"
      },
      "source": [
        "#### 重新为每个box计算confident\n",
        "现在我们已经得到了可以输出的，没有重叠的box，但是还是要为每个box计算一个confidence.\n",
        "confidence可以用最大值，平均值等等"
      ]
    },
    {
      "cell_type": "code",
      "metadata": {
        "id": "kJ3JIPR-xCVx",
        "colab_type": "code",
        "colab": {
          "base_uri": "https://localhost:8080/",
          "height": 34
        },
        "outputId": "34d91083-7d16-4fad-8652-ee4c6c7747f8"
      },
      "source": [
        "result_scores = []\n",
        "for i in range(num_pos):\n",
        "  result_scores.append(sum(L_scores[i])/len(L_scores[i]))\n",
        "print(result_scores)"
      ],
      "execution_count": null,
      "outputs": [
        {
          "output_type": "stream",
          "text": [
            "[0.9, 0.45]\n"
          ],
          "name": "stdout"
        }
      ]
    },
    {
      "cell_type": "markdown",
      "metadata": {
        "id": "GKHX5hOaxzbz",
        "colab_type": "text"
      },
      "source": [
        "到此，已经计算完毕了"
      ]
    },
    {
      "cell_type": "markdown",
      "metadata": {
        "id": "92xRMZb6x2OX",
        "colab_type": "text"
      },
      "source": [
        "# K-folds情况\n",
        "有的时候会让多个模型同时预测，前面的步骤几乎是一样的，但最后求confidence的时候，要降低box数量比较少的目标的confidence(很少的模型预测出了这个)，方法有两个\n",
        "$$ C = C \\times \\frac{min(Nboxes,Nmodels)}{Nmodels}$$\n",
        "or\n",
        "$$C = C \\times \\frac{Nboxes}{Nmodels}$$"
      ]
    },
    {
      "cell_type": "markdown",
      "metadata": {
        "id": "HB_V1nBFyoHI",
        "colab_type": "text"
      },
      "source": [
        "#### Reference\n",
        "Weighted Boxes Fusion: ensembling boxes for object detection models\n",
        "https://arxiv.org/abs/1910.13302"
      ]
    }
  ]
}